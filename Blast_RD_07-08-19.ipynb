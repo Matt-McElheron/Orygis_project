{
 "cells": [
  {
   "cell_type": "markdown",
   "metadata": {},
   "source": [
    "# Retrieve RD FASTA sequences\n",
    "#### DATE: 07-08-19\n",
    "#### TASK: \n",
    "####       - Retrive coordinates of RD from the RD.csv file\n",
    "####       - Use coords to extracts RD in FASTA from the H37rv reference genome\n",
    "####       - Create blast db from RDs\n",
    "####       - Blast mbovis/morygis against local db"
   ]
  },
  {
   "cell_type": "code",
   "execution_count": 1,
   "metadata": {},
   "outputs": [],
   "source": [
    "import os, sys, io, random, subprocess\n",
    "import string\n",
    "import numpy as np\n",
    "import pandas as pd\n",
    "pd.set_option('display.width',150)\n",
    "from Bio.Seq import Seq\n",
    "from Bio.SeqRecord import SeqRecord\n",
    "from Bio.Align import MultipleSeqAlignment\n",
    "from Bio import AlignIO, SeqIO\n",
    "\n",
    "sys.path.append('/home/tortoise/pybioviz/')\n",
    "from pybioviz import viewers, utils"
   ]
  },
  {
   "cell_type": "markdown",
   "metadata": {},
   "source": [
    "### The H37rv genome is going to be converted to a string, to be sliced"
   ]
  },
  {
   "cell_type": "code",
   "execution_count": 49,
   "metadata": {},
   "outputs": [],
   "source": [
    "# Here we open up the H37rv genome.\n",
    "# The RD are defined by coordinates on this genome so we will use the sequences spliced from this\n",
    "def extract_genome(genomefile):\n",
    "    \n",
    "    # This string will have each line of se added to it\n",
    "    genome_string = ''\n",
    "    \n",
    "    # The genome file is opened here\n",
    "    with open(genomefile) as gfile:\n",
    "    \n",
    "        # Each line is read\n",
    "        for line in gfile:\n",
    "    \n",
    "            # We skip the fasta header\n",
    "            if '>' in line:\n",
    "                continue\n",
    "            # The genome string is then assembled...\n",
    "            else:\n",
    "                genome_string = genome_string + line\n",
    "    # and returned    \n",
    "    return genome_string\n",
    "\n",
    "# The retrieval of the genome is called\n",
    "MTBenome = extract_genome('ref_genomes/MTB_h37rv.fna')"
   ]
  },
  {
   "cell_type": "markdown",
   "metadata": {},
   "source": [
    "### The .csv file is going to be opened, with relevent data extracted and stored"
   ]
  },
  {
   "cell_type": "code",
   "execution_count": null,
   "metadata": {},
   "outputs": [],
   "source": [
    "# This function reads the csv and takes needed information\n",
    "# It stores the uses an inputted dictionary\n",
    "# The key added is each RD name\n",
    "# The value added is the slice of the H37rv genome using the csv Start and Stop coordinates as slice coordinates\n",
    "# RDict is the empty dictionary used to store info\n",
    "def extract_csv(csv_file, RDict):\n",
    "    \n",
    "    # RD is the dataframe made from the .csv file\n",
    "    # Commented .csv inputs are ignored\n",
    "    RD = pd.read_csv(csv_file, comment='#')\n",
    "    \n",
    "    # Each row is iterated over using iterrows\n",
    "    # This creates a set of each row, where each value can be called using the column name\n",
    "    for iteration, row in RD.iterrows():\n",
    "        \n",
    "        # RDict takes in the row's RD name as a key..\n",
    "        # .. and a genome slice as a value\n",
    "        # The slice is specified using the RD's Start and Stop coordinates\n",
    "        RDict[row.RD_name] = MTBenome[row.Start:row.Stop+1]\n",
    "        \n",
    "# This empty dict later cathes .csv information of each RD\n",
    "RDict = {}\n",
    "\n",
    "# The .csv file is parsed through our extraction function\n",
    "extract_csv('RD.csv', RDict)"
   ]
  },
  {
   "cell_type": "code",
   "execution_count": 35,
   "metadata": {},
   "outputs": [],
   "source": [
    "# Here the extracted files are written in fasta format to an output file for later blasting\n",
    "# A new file is created\n",
    "with open('RD_seq.fasta', 'w+') as fna:\n",
    "    \n",
    "    # We iterate over the RD dictionary's items\n",
    "    for RD, seq in RDict.items():\n",
    "        \n",
    "        # And write into the output file each RD and its sequence..\n",
    "        # .. in fasta format\n",
    "        # FASTA format is needed for blasting\n",
    "        fna.write(f'>{RD}\\n{seq}\\n')\n"
   ]
  },
  {
   "cell_type": "code",
   "execution_count": 37,
   "metadata": {},
   "outputs": [],
   "source": [
    "# Here we create a database of the RDs, which can align each genome against\n",
    "# The function takes in the created RD fasta file\n",
    "def makedb(RDfna):\n",
    "    \n",
    "    # a command is then created using the inputted file\n",
    "    # The inputted file is the database to be created, using the -in parameter\n",
    "    # -dtype is nucl as we are creating a nucleotide database\n",
    "    # The database will then be called the same as the input file\n",
    "    make_db = f'makeblastdb -in {RDfna} -dbtype nucl'\n",
    "    \n",
    "    # The command is used on the command line\n",
    "    os.system(make_db)\n",
    "    \n",
    "    # A return could be used here to pass on the name of the database created..\n",
    "    \n",
    "# The database is created using our created file    \n",
    "makedb('RD_seq.fasta')"
   ]
  },
  {
   "cell_type": "code",
   "execution_count": 41,
   "metadata": {},
   "outputs": [
    {
     "name": "stdout",
     "output_type": "stream",
     "text": [
      "blastn -query ref_genomes/mbovis.fna -db RD_seq.fasta -out mbovisblast.txt -outfmt 7\n",
      "blastn -query ref_genomes/morygis_ncbi.fna -db RD_seq.fasta -out morygis_ncbiblast.txt -outfmt 7\n",
      "morygis_ncbiblast.txt\n"
     ]
    }
   ],
   "source": [
    "# Here we perform the blast search with our db\n",
    "def do_blast(genome):\n",
    "    \n",
    "    # This is the created output file name, made frpom whichever genome is being parsed\n",
    "    outfile = os.path.basename(genome).split('.')[0] + 'blast.txt'\n",
    "    \n",
    "    # The cmd is then:\n",
    "    \n",
    "    # - created\n",
    "    blastcmd = f'blastn -query {genome} -db RD_seq.fasta -out {outfile} -outfmt 7'\n",
    "    \n",
    "    # - printed\n",
    "    print(blastcmd)\n",
    "    \n",
    "    # - called on the cmd line\n",
    "    os.system(blastcmd)\n",
    "    \n",
    "    # the output file name is returned, and stored as a variable\n",
    "    return outfile\n",
    "\n",
    "# the blastin function is called for each genome, and the name of the output file is stored\n",
    "mbo_blast = do_blast('ref_genomes/mbovis.fna')\n",
    "mor_blast = do_blast('ref_genomes/morygis_ncbi.fna')\n"
   ]
  },
  {
   "cell_type": "code",
   "execution_count": 46,
   "metadata": {},
   "outputs": [
    {
     "name": "stdout",
     "output_type": "stream",
     "text": [
      "mbovis hit count: 68\n",
      "morygis hit count: 128\n"
     ]
    }
   ],
   "source": [
    "# We then read the blast results, taking in the blast file\n",
    "def read_blast_res(blast_res):\n",
    "    # This is just a simple count of how many hits total came up\n",
    "    RD_hit_count = 0\n",
    "    \n",
    "    # The results file is opened\n",
    "    with open(blast_res) as res:\n",
    "        \n",
    "        # Each line is read\n",
    "        for line in res:\n",
    "            \n",
    "            #ignoring files which state the database used..\n",
    "            if 'Database' in line:\n",
    "                continue\n",
    "            \n",
    "            # Each result is printed/counted\n",
    "            elif \"RD\" in line:\n",
    "                #print(line)\n",
    "                RD_hit_count += 1\n",
    "                \n",
    "    # The hit count is then returned\n",
    "    return RD_hit_count\n",
    "\n",
    "# Each blast count is called..\n",
    "mbo_RD_hits = read_blast_res(mbo_blast)\n",
    "mor_RD_hits = read_blast_res(mor_blast)\n",
    "\n",
    "# ..and hit count is printed\n",
    "print(f'mbovis hit count: {mbo_RD_hits}')\n",
    "print(f'morygis hit count: {mor_RD_hits}')"
   ]
  },
  {
   "cell_type": "code",
   "execution_count": null,
   "metadata": {},
   "outputs": [],
   "source": []
  }
 ],
 "metadata": {
  "kernelspec": {
   "display_name": "Python 3",
   "language": "python",
   "name": "python3"
  },
  "language_info": {
   "codemirror_mode": {
    "name": "ipython",
    "version": 3
   },
   "file_extension": ".py",
   "mimetype": "text/x-python",
   "name": "python",
   "nbconvert_exporter": "python",
   "pygments_lexer": "ipython3",
   "version": "3.6.8"
  }
 },
 "nbformat": 4,
 "nbformat_minor": 4
}
