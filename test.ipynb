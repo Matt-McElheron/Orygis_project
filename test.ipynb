{
 "cells": [
  {
   "cell_type": "markdown",
   "metadata": {},
   "source": [
    "## this notebook is a test of nucdiff using some fake sequence data"
   ]
  },
  {
   "cell_type": "code",
   "execution_count": 49,
   "metadata": {},
   "outputs": [],
   "source": [
    "import os, sys, io, random, subprocess\n",
    "import string\n",
    "import numpy as np\n",
    "import pandas as pd\n",
    "pd.set_option('display.width',600)\n",
    "from Bio.Seq import Seq, MutableSeq\n",
    "from Bio.SeqRecord import SeqRecord\n",
    "from Bio.Align import MultipleSeqAlignment\n",
    "from Bio import AlignIO, SeqIO\n",
    "\n",
    "from pybioviz import utils"
   ]
  },
  {
   "cell_type": "markdown",
   "metadata": {},
   "source": [
    "### make two test sequence and make gaps and some mutations in the second"
   ]
  },
  {
   "cell_type": "code",
   "execution_count": 60,
   "metadata": {},
   "outputs": [
    {
     "data": {
      "text/plain": [
       "1"
      ]
     },
     "execution_count": 60,
     "metadata": {},
     "output_type": "execute_result"
    }
   ],
   "source": [
    "rec = SeqIO.parse('Mbovis.fna',format='fasta').__next__()\n",
    "\n",
    "s1=rec.seq[:50000] \n",
    "seq1 = SeqRecord(s1,id='test1',description='my ref')\n",
    "#create altered seq\n",
    "s2 = (s1[:500]+s1[600:]+s1[20000:30000]+s1[35000:40000]).tomutable()\n",
    "s2[200] = 'T'\n",
    "s2[1000] = 'A'\n",
    "seq2 = SeqRecord(s2,id='test2',description='my query')\n",
    "\n",
    "SeqIO.write(seq1,'test1.fna','fasta')\n",
    "SeqIO.write(seq2,'test2.fna','fasta')"
   ]
  },
  {
   "cell_type": "code",
   "execution_count": 61,
   "metadata": {},
   "outputs": [
    {
     "name": "stdout",
     "output_type": "stream",
     "text": [
      "nucmer --maxgap=500 --mincluster=100 --coords -p nucmer test1.fna test2.fna\n"
     ]
    }
   ],
   "source": [
    "nuc = utils.align_nucmer('test1.fna','test2.fna')"
   ]
  },
  {
   "cell_type": "code",
   "execution_count": 62,
   "metadata": {},
   "outputs": [
    {
     "data": {
      "text/html": [
       "<div>\n",
       "<style scoped>\n",
       "    .dataframe tbody tr th:only-of-type {\n",
       "        vertical-align: middle;\n",
       "    }\n",
       "\n",
       "    .dataframe tbody tr th {\n",
       "        vertical-align: top;\n",
       "    }\n",
       "\n",
       "    .dataframe thead th {\n",
       "        text-align: right;\n",
       "    }\n",
       "</style>\n",
       "<table border=\"1\" class=\"dataframe\">\n",
       "  <thead>\n",
       "    <tr style=\"text-align: right;\">\n",
       "      <th></th>\n",
       "      <th>S1</th>\n",
       "      <th>E1</th>\n",
       "      <th>S2</th>\n",
       "      <th>E2</th>\n",
       "      <th>LEN 1</th>\n",
       "      <th>LEN 2</th>\n",
       "      <th>IDENT</th>\n",
       "      <th>TAG1</th>\n",
       "      <th>TAG2</th>\n",
       "    </tr>\n",
       "  </thead>\n",
       "  <tbody>\n",
       "    <tr>\n",
       "      <th>0</th>\n",
       "      <td>1</td>\n",
       "      <td>500</td>\n",
       "      <td>1</td>\n",
       "      <td>500</td>\n",
       "      <td>500</td>\n",
       "      <td>500</td>\n",
       "      <td>99.80</td>\n",
       "      <td>test1</td>\n",
       "      <td>test2</td>\n",
       "    </tr>\n",
       "    <tr>\n",
       "      <th>1</th>\n",
       "      <td>601</td>\n",
       "      <td>50000</td>\n",
       "      <td>501</td>\n",
       "      <td>49900</td>\n",
       "      <td>49400</td>\n",
       "      <td>49400</td>\n",
       "      <td>99.99</td>\n",
       "      <td>test1</td>\n",
       "      <td>test2</td>\n",
       "    </tr>\n",
       "    <tr>\n",
       "      <th>2</th>\n",
       "      <td>20001</td>\n",
       "      <td>30001</td>\n",
       "      <td>49901</td>\n",
       "      <td>59901</td>\n",
       "      <td>10001</td>\n",
       "      <td>10001</td>\n",
       "      <td>100.00</td>\n",
       "      <td>test1</td>\n",
       "      <td>test2</td>\n",
       "    </tr>\n",
       "    <tr>\n",
       "      <th>3</th>\n",
       "      <td>35000</td>\n",
       "      <td>40000</td>\n",
       "      <td>59900</td>\n",
       "      <td>64900</td>\n",
       "      <td>5001</td>\n",
       "      <td>5001</td>\n",
       "      <td>100.00</td>\n",
       "      <td>test1</td>\n",
       "      <td>test2</td>\n",
       "    </tr>\n",
       "  </tbody>\n",
       "</table>\n",
       "</div>"
      ],
      "text/plain": [
       "      S1     E1     S2     E2  LEN 1  LEN 2   IDENT   TAG1   TAG2\n",
       "0      1    500      1    500    500    500   99.80  test1  test2\n",
       "1    601  50000    501  49900  49400  49400   99.99  test1  test2\n",
       "2  20001  30001  49901  59901  10001  10001  100.00  test1  test2\n",
       "3  35000  40000  59900  64900   5001   5001  100.00  test1  test2"
      ]
     },
     "execution_count": 62,
     "metadata": {},
     "output_type": "execute_result"
    }
   ],
   "source": [
    "nuc"
   ]
  },
  {
   "cell_type": "markdown",
   "metadata": {},
   "source": [
    "### run nucdiff and find the differences!\n",
    "\n",
    "* run nucdiff on the 2 samples with test1 as ref and find deletions plus snps"
   ]
  },
  {
   "cell_type": "code",
   "execution_count": null,
   "metadata": {},
   "outputs": [],
   "source": []
  }
 ],
 "metadata": {
  "kernelspec": {
   "display_name": "Python 3",
   "language": "python",
   "name": "python3"
  },
  "language_info": {
   "codemirror_mode": {
    "name": "ipython",
    "version": 3
   },
   "file_extension": ".py",
   "mimetype": "text/x-python",
   "name": "python",
   "nbconvert_exporter": "python",
   "pygments_lexer": "ipython3",
   "version": "3.7.3"
  }
 },
 "nbformat": 4,
 "nbformat_minor": 2
}
