{
 "cells": [
  {
   "cell_type": "markdown",
   "metadata": {},
   "source": [
    "## M. orygis/MTB/Mbovis differences\n",
    "\n",
    "This notebook uses nucdiff .."
   ]
  },
  {
   "cell_type": "code",
   "execution_count": 2,
   "metadata": {},
   "outputs": [],
   "source": [
    "import os, sys, io, random, subprocess\n",
    "import string\n",
    "import numpy as np\n",
    "import pandas as pd\n",
    "\n",
    "from Bio.Seq import Seq\n",
    "from Bio.SeqRecord import SeqRecord\n",
    "from Bio.Align import MultipleSeqAlignment\n",
    "from Bio import AlignIO, SeqIO\n",
    "\n",
    "sys.path.append('/home/tortoise/pybioviz/')\n",
    "from pybioviz import viewers, utils"
   ]
  },
  {
   "cell_type": "code",
   "execution_count": 3,
   "metadata": {},
   "outputs": [],
   "source": [
    "def align_nucmer(file1, file2):\n",
    "    cmd='nucmer --maxgap=500 --mincluster=100 --coords -p nucmer %s %s' %(file1, file2)\n",
    "    print (cmd)\n",
    "    subprocess.check_output(cmd,shell=True)\n",
    "    df = read_nucmer_coords('nucmer.coords')\n",
    "    return df\n",
    "\n",
    "def read_nucmer_coords(cfile):\n",
    "    cols=['S1','E1','S2','E2','LEN 1','LEN 2','IDENT','TAG1','TAG2']\n",
    "    a=pd.read_csv(cfile,sep='[\\s|]+',skiprows=5,names=cols,engine='python')\n",
    "    a = a.sort_values(by='TAG2',ascending=False)\n",
    "    return a"
   ]
  },
  {
   "cell_type": "code",
   "execution_count": 3,
   "metadata": {},
   "outputs": [
    {
     "name": "stdout",
     "output_type": "stream",
     "text": [
      "nucmer --maxgap=500 --mincluster=100 --coords -p nucmer ref_genomes/mbovis.fna ref_genomes/MTB_h37rv.fna\n"
     ]
    }
   ],
   "source": [
    "nuc=align_nucmer('ref_genomes/mbovis.fna','ref_genomes/MTB_h37rv.fna')"
   ]
  },
  {
   "cell_type": "code",
   "execution_count": null,
   "metadata": {
    "scrolled": true
   },
   "outputs": [],
   "source": [
    "ref = 'NC_000962.3'\n",
    "nuc = nuc.sort_values('S2')\n",
    "nuc"
   ]
  },
  {
   "cell_type": "markdown",
   "metadata": {},
   "source": [
    "## region of difference detection with nucmer\n",
    "\n",
    "* align RD fasta sequences to a reference e.g. bovis,orygis, tb genomes\n",
    "* check coords table (dataframe) for missing and present regions\n",
    "\n"
   ]
  },
  {
   "cell_type": "code",
   "execution_count": 4,
   "metadata": {},
   "outputs": [
    {
     "name": "stdout",
     "output_type": "stream",
     "text": [
      "nucmer --maxgap=500 --mincluster=100 --coords -p nucmer ref_genomes/MTB_h37rv.fna ref_genomes/RDs_mtb.fna\n"
     ]
    }
   ],
   "source": [
    "#nuc=align_nucmer('ref_genomes/mbovis.fna','ref_genomes/RDs_mtb.fna')\n",
    "nuc=align_nucmer('ref_genomes/MTB_h37rv.fna','ref_genomes/RDs_mtb.fna')"
   ]
  },
  {
   "cell_type": "code",
   "execution_count": 5,
   "metadata": {},
   "outputs": [
    {
     "name": "stdout",
     "output_type": "stream",
     "text": [
      "['RD9_1', 'RD711_2', 'RD702_3', 'RD4_4', 'RD1bcg_5', 'RD1mic_6', 'RD2seal_7', 'RD2bcg_8', 'RD7_9', 'RD8_10', 'RD10_11', 'RD12bovis_12', 'RD12can_13', 'RD105_14', 'RD239_15', 'RD750_16', 'RD142_17', 'RD150_18', 'RD181_19', 'RD207_20', 'RD115_21', 'RD122_22', 'RD174_23', 'RD182_24', 'RD183_25', 'RD193_26', 'RD219_27', 'RD724_28', 'RD726_29', 'RD761_30', '7bp_pks15.1']\n"
     ]
    }
   ],
   "source": [
    "recs = list(SeqIO.parse('ref_genomes/RDs_mtb.fna',format='fasta'))\n",
    "ids = [r.id for r in recs]\n",
    "print (ids)"
   ]
  },
  {
   "cell_type": "markdown",
   "metadata": {},
   "source": [
    "## \n",
    "\n"
   ]
  },
  {
   "cell_type": "code",
   "execution_count": 7,
   "metadata": {},
   "outputs": [],
   "source": [
    "featurekeys = ['ID', 'Name', 'del_len', 'ins_len', 'query_coord', 'start', 'end']\n",
    "\n",
    "def features_to_dataframe(features, cds=False):\n",
    "    \"\"\"Get features from a biopython seq record object into a dataframe\n",
    "    Args:\n",
    "        features: bio seqfeatures\n",
    "       returns: a dataframe with a row for each cds/entry.\n",
    "      \"\"\"\n",
    "\n",
    "    #preprocess features\n",
    "    allfeat = []\n",
    "    for (item, f) in enumerate(features):\n",
    "        x = f.__dict__\n",
    "        q = f.qualifiers\n",
    "        #print(q)\n",
    "        x.update(q)\n",
    "        d = {}\n",
    "        d['start'] = f.location.start\n",
    "        d['end'] = f.location.end\n",
    "        #d['strand'] = f.location.strand\n",
    "        for i in featurekeys:\n",
    "            if i in x:\n",
    "                if type(x[i]) is list:\n",
    "                    d[i] = x[i][0]\n",
    "                else:\n",
    "                    d[i] = x[i]\n",
    "        allfeat.append(d)\n",
    "\n",
    "    df = pd.DataFrame(allfeat,columns=featurekeys)\n",
    "\n",
    "    return df\n",
    "\n",
    "#df=features_to_dataframe(feats)\n",
    "#df[:5]"
   ]
  },
  {
   "cell_type": "code",
   "execution_count": 8,
   "metadata": {},
   "outputs": [
    {
     "data": {
      "text/plain": [
       "40"
      ]
     },
     "execution_count": 8,
     "metadata": {},
     "output_type": "execute_result"
    }
   ],
   "source": [
    "feats = utils.gff_to_features('ref_genomes/Nucdiff_MTB_MB/results/MTB_MB_ref_struct.gff')\n",
    "feat_df = features_to_dataframe(feats)\n",
    "#print(feat_df)\n",
    "deletions = feat_df[feat_df.Name=='deletion']\n",
    "len(deletions)"
   ]
  },
  {
   "cell_type": "code",
   "execution_count": 10,
   "metadata": {},
   "outputs": [
    {
     "name": "stdout",
     "output_type": "stream",
     "text": [
      "   No. RD targets    Start     Stop  Size (bp)       Rv in RD\n",
      "0    1        RD9  2330000  2332100       2029  Rv2073c-2075c\n",
      "1    2      RD711  1501713  1503655       1943    Rv1333-1336\n",
      "2    3      RD702   216795   218516       1722         Rv0186\n",
      "3    4        RD4  1696200  1708800      12732  Rv1506c-1516c\n",
      "4    5     RD1bcg  4349600  4359000       9400   Rv3871-3879c\n"
     ]
    }
   ],
   "source": [
    "RD = pd.read_csv('RD.csv', sep='\\t')\n",
    "print(RD[:5])"
   ]
  },
  {
   "cell_type": "markdown",
   "metadata": {},
   "source": [
    "### find RD regions\n",
    "* In this function the code iterates over each row of found deletions and checks to see if either the start or end coordinates fall within the coordinates of the known regions of deletion.\n",
    "* If either the start point of the deletion or the end point of the deletion is within the RD's coordinates, then there must be some overlap between the deletion and the RD"
   ]
  },
  {
   "cell_type": "code",
   "execution_count": 16,
   "metadata": {
    "scrolled": true
   },
   "outputs": [
    {
     "name": "stdout",
     "output_type": "stream",
     "text": [
      "    No. RD targets   Start    Stop  Size (bp)     Rv in RD\n",
      "10   11       RD10  264700  266600       1902  Rv0221-0223\n",
      "Empty DataFrame\n",
      "Columns: [No., RD targets, Start, Stop, Size (bp), Rv in RD]\n",
      "Index: []\n",
      "Empty DataFrame\n",
      "Columns: [No., RD targets, Start, Stop, Size (bp), Rv in RD]\n",
      "Index: []\n",
      "Empty DataFrame\n",
      "Columns: [No., RD targets, Start, Stop, Size (bp), Rv in RD]\n",
      "Index: []\n",
      "Empty DataFrame\n",
      "Columns: [No., RD targets, Start, Stop, Size (bp), Rv in RD]\n",
      "Index: []\n",
      "Empty DataFrame\n",
      "Columns: [No., RD targets, Start, Stop, Size (bp), Rv in RD]\n",
      "Index: []\n",
      "Empty DataFrame\n",
      "Columns: [No., RD targets, Start, Stop, Size (bp), Rv in RD]\n",
      "Index: []\n",
      "Empty DataFrame\n",
      "Columns: [No., RD targets, Start, Stop, Size (bp), Rv in RD]\n",
      "Index: []\n",
      "Empty DataFrame\n",
      "Columns: [No., RD targets, Start, Stop, Size (bp), Rv in RD]\n",
      "Index: []\n",
      "Empty DataFrame\n",
      "Columns: [No., RD targets, Start, Stop, Size (bp), Rv in RD]\n",
      "Index: []\n",
      "Empty DataFrame\n",
      "Columns: [No., RD targets, Start, Stop, Size (bp), Rv in RD]\n",
      "Index: []\n",
      "Empty DataFrame\n",
      "Columns: [No., RD targets, Start, Stop, Size (bp), Rv in RD]\n",
      "Index: []\n",
      "Empty DataFrame\n",
      "Columns: [No., RD targets, Start, Stop, Size (bp), Rv in RD]\n",
      "Index: []\n",
      "   No. RD targets    Start     Stop  Size (bp)       Rv in RD\n",
      "0    1        RD9  2330000  2332100       2029  Rv2073c-2075c\n",
      "Empty DataFrame\n",
      "Columns: [No., RD targets, Start, Stop, Size (bp), Rv in RD]\n",
      "Index: []\n",
      "Empty DataFrame\n",
      "Columns: [No., RD targets, Start, Stop, Size (bp), Rv in RD]\n",
      "Index: []\n",
      "Empty DataFrame\n",
      "Columns: [No., RD targets, Start, Stop, Size (bp), Rv in RD]\n",
      "Index: []\n",
      "Empty DataFrame\n",
      "Columns: [No., RD targets, Start, Stop, Size (bp), Rv in RD]\n",
      "Index: []\n",
      "Empty DataFrame\n",
      "Columns: [No., RD targets, Start, Stop, Size (bp), Rv in RD]\n",
      "Index: []\n",
      "Empty DataFrame\n",
      "Columns: [No., RD targets, Start, Stop, Size (bp), Rv in RD]\n",
      "Index: []\n"
     ]
    }
   ],
   "source": [
    "for i,r in list(deletions.iterrows())[:20]:\n",
    "    #print (r.start,r.end)\n",
    "    #print (RD.Start, RD.Stop)\n",
    "    print (RD[abs(RD.Start-r.start)<500])\n",
    "    \n",
    "    #if r.start < RD.Start) & RD.Start < r.end | r.start < RD.Stop & RD.Stop < r.end:\n",
    "       #print(RD.Start)"
   ]
  },
  {
   "cell_type": "code",
   "execution_count": 18,
   "metadata": {},
   "outputs": [
    {
     "data": {
      "text/html": [
       "<div>\n",
       "<style scoped>\n",
       "    .dataframe tbody tr th:only-of-type {\n",
       "        vertical-align: middle;\n",
       "    }\n",
       "\n",
       "    .dataframe tbody tr th {\n",
       "        vertical-align: top;\n",
       "    }\n",
       "\n",
       "    .dataframe thead th {\n",
       "        text-align: right;\n",
       "    }\n",
       "</style>\n",
       "<table border=\"1\" class=\"dataframe\">\n",
       "  <thead>\n",
       "    <tr style=\"text-align: right;\">\n",
       "      <th></th>\n",
       "      <th>No.</th>\n",
       "      <th>RD targets</th>\n",
       "      <th>Start</th>\n",
       "      <th>Stop</th>\n",
       "      <th>Size (bp)</th>\n",
       "      <th>Rv in RD</th>\n",
       "    </tr>\n",
       "  </thead>\n",
       "  <tbody>\n",
       "    <tr>\n",
       "      <th>0</th>\n",
       "      <td>1</td>\n",
       "      <td>RD9</td>\n",
       "      <td>2330000</td>\n",
       "      <td>2332100</td>\n",
       "      <td>2029</td>\n",
       "      <td>Rv2073c-2075c</td>\n",
       "    </tr>\n",
       "    <tr>\n",
       "      <th>1</th>\n",
       "      <td>2</td>\n",
       "      <td>RD711</td>\n",
       "      <td>1501713</td>\n",
       "      <td>1503655</td>\n",
       "      <td>1943</td>\n",
       "      <td>Rv1333-1336</td>\n",
       "    </tr>\n",
       "    <tr>\n",
       "      <th>2</th>\n",
       "      <td>3</td>\n",
       "      <td>RD702</td>\n",
       "      <td>216795</td>\n",
       "      <td>218516</td>\n",
       "      <td>1722</td>\n",
       "      <td>Rv0186</td>\n",
       "    </tr>\n",
       "    <tr>\n",
       "      <th>3</th>\n",
       "      <td>4</td>\n",
       "      <td>RD4</td>\n",
       "      <td>1696200</td>\n",
       "      <td>1708800</td>\n",
       "      <td>12732</td>\n",
       "      <td>Rv1506c-1516c</td>\n",
       "    </tr>\n",
       "    <tr>\n",
       "      <th>4</th>\n",
       "      <td>5</td>\n",
       "      <td>RD1bcg</td>\n",
       "      <td>4349600</td>\n",
       "      <td>4359000</td>\n",
       "      <td>9400</td>\n",
       "      <td>Rv3871-3879c</td>\n",
       "    </tr>\n",
       "  </tbody>\n",
       "</table>\n",
       "</div>"
      ],
      "text/plain": [
       "   No. RD targets    Start     Stop  Size (bp)       Rv in RD\n",
       "0    1        RD9  2330000  2332100       2029  Rv2073c-2075c\n",
       "1    2      RD711  1501713  1503655       1943    Rv1333-1336\n",
       "2    3      RD702   216795   218516       1722         Rv0186\n",
       "3    4        RD4  1696200  1708800      12732  Rv1506c-1516c\n",
       "4    5     RD1bcg  4349600  4359000       9400   Rv3871-3879c"
      ]
     },
     "execution_count": 18,
     "metadata": {},
     "output_type": "execute_result"
    }
   ],
   "source": []
  },
  {
   "cell_type": "code",
   "execution_count": null,
   "metadata": {},
   "outputs": [],
   "source": []
  }
 ],
 "metadata": {
  "kernelspec": {
   "display_name": "Python 3",
   "language": "python",
   "name": "python3"
  },
  "language_info": {
   "codemirror_mode": {
    "name": "ipython",
    "version": 3
   },
   "file_extension": ".py",
   "mimetype": "text/x-python",
   "name": "python",
   "nbconvert_exporter": "python",
   "pygments_lexer": "ipython3",
   "version": "3.6.8"
  }
 },
 "nbformat": 4,
 "nbformat_minor": 4
}
