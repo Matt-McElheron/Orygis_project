{
 "cells": [
  {
   "cell_type": "markdown",
   "metadata": {},
   "source": [
    "# Calling NucDiff\n",
    "#### DATE: 02-08-19\n",
    "#### TASK: \n",
    "####       - Call NucDiff on reference file (H37rv) and query file (M. orygis or M. bovis)\n",
    "####       - Return relevent information in a dataframe"
   ]
  },
  {
   "cell_type": "code",
   "execution_count": 3,
   "metadata": {},
   "outputs": [],
   "source": [
    "import os, sys, io, random, subprocess\n",
    "import string\n",
    "import numpy as np\n",
    "import pandas as pd\n",
    "pd.set_option('display.width',150)\n",
    "from Bio.Seq import Seq\n",
    "from Bio.SeqRecord import SeqRecord\n",
    "from Bio.Align import MultipleSeqAlignment\n",
    "from Bio import AlignIO, SeqIO\n",
    "\n",
    "sys.path.append('/home/tortoise/pybioviz/')\n",
    "from pybioviz import viewers, utils"
   ]
  },
  {
   "cell_type": "code",
   "execution_count": 4,
   "metadata": {},
   "outputs": [],
   "source": [
    "# Here, a set of features are defined.\n",
    "# These features are what shall be extracted from inputted gff files, and are used as column headers in the dataframe\n",
    "# Many titles will return as NaN however allows merging of different features, such as SNPs and Insertions\n",
    "featurekeys = ['ID', 'Name', 'del_len', 'ins_len', 'query_bases', 'ref_bases', 'query_coord', 'start', 'end']\n",
    "def features_to_dataframe(features, cds=False):\n",
    "    \"\"\"Get features from a biopython seq record object into a dataframe\n",
    "    Args:\n",
    "        features: bio seqfeatures\n",
    "       returns: a dataframe with a row for each cds/entry.\n",
    "      \"\"\"\n",
    "    \n",
    "    #preprocess features\n",
    "    allfeat = []\n",
    "    for (item, f) in enumerate(features):\n",
    "        x = f.__dict__\n",
    "        q = f.qualifiers\n",
    "        #print(q)\n",
    "        x.update(q)\n",
    "        d = {}\n",
    "        d['start'] = f.location.start\n",
    "        d['end'] = f.location.end\n",
    "        #d['strand'] = f.location.strand\n",
    "        for i in featurekeys:\n",
    "            if i in x:\n",
    "                if type(x[i]) is list:\n",
    "                    d[i] = x[i][0]\n",
    "                else:\n",
    "                    d[i] = x[i]\n",
    "        allfeat.append(d)\n",
    "\n",
    "    df = pd.DataFrame(allfeat,columns=featurekeys)\n",
    "\n",
    "    return df"
   ]
  },
  {
   "cell_type": "code",
   "execution_count": 5,
   "metadata": {},
   "outputs": [
    {
     "name": "stdout",
     "output_type": "stream",
     "text": [
      "0\n"
     ]
    }
   ],
   "source": [
    "# Here the previous test NucDiff test folder is removed\n",
    "\n",
    "remove_test = 'rm -r MTB_h37rv_mbovis'\n",
    "code = os.system(remove_test)\n",
    "print(code)"
   ]
  },
  {
   "cell_type": "markdown",
   "metadata": {},
   "source": [
    "Here the NucDiff command is defined. Currently, it is hardcoded, but sys.argv arguments will be written in.\n"
   ]
  },
  {
   "cell_type": "code",
   "execution_count": 6,
   "metadata": {},
   "outputs": [
    {
     "name": "stdout",
     "output_type": "stream",
     "text": [
      "nucdiff ref_genomes/MTB_h37rv.fna ref_genomes/mbovis.fna MTB_h37rv_mbovis mbovis\n",
      "nucdiff ref_genomes/MTB_h37rv.fna ref_genomes/morygis_ncbi.fna MTB_h37rv_morygis_ncbi morygis_ncbi\n"
     ]
    }
   ],
   "source": [
    "def run_nucdiff(ref, query):\n",
    "    \"\"\"Run nucdiff\"\"\"\n",
    "    \n",
    "    outfolder = os.path.basename(ref).split('.')[0] + '_' +  os.path.basename(query).split('.')[0]\n",
    "    outprefix = os.path.basename(query).split('.')[0]\n",
    "    \n",
    "    #nucDiffCmd = 'nucdiff' + ref + \" \" + query \" \" + outputFolder + \" \" + outputPrefix\n",
    "    nucDiffCmd = f'nucdiff {ref} {query} {outfolder} {outprefix}'\n",
    "    \n",
    "    print (nucDiffCmd)\n",
    "    os.system(nucDiffCmd)\n",
    "    return\n",
    "    \n",
    "run_nucdiff('ref_genomes/MTB_h37rv.fna','ref_genomes/mbovis.fna')\n",
    "run_nucdiff('ref_genomes/MTB_h37rv.fna','ref_genomes/morygis_ncbi.fna')"
   ]
  },
  {
   "cell_type": "markdown",
   "metadata": {},
   "source": [
    "## find common differences morygis and mbovis vs mtb"
   ]
  },
  {
   "cell_type": "code",
   "execution_count": 7,
   "metadata": {},
   "outputs": [],
   "source": [
    "# Here the features extracting function is defined\n",
    "#featurekeys = ['ID', 'Name', 'del_len', 'ins_len', 'query_bases', 'ref_bases', 'query_coord', 'start', 'end']\n",
    "\n",
    "def features_to_dataframe(features, cds=False):\n",
    "    \"\"\"Get features from a biopython seq record object into a dataframe\n",
    "    Args:\n",
    "        features: bio seqfeatures\n",
    "       returns: a dataframe with a row for each cds/entry.\n",
    "      \"\"\"\n",
    "\n",
    "    #preprocess features\n",
    "    allfeat = []\n",
    "    for (item, f) in enumerate(features):\n",
    "        x = f.__dict__\n",
    "        quals = f.qualifiers\n",
    "        #print(q)\n",
    "        x.update(quals)\n",
    "        d = {}\n",
    "        d['start'] = f.location.start\n",
    "        d['end'] = f.location.end\n",
    "        #d['strand'] = f.location.strand\n",
    "     \n",
    "        cols = list(quals.keys())+['start','end']\n",
    "        for i in quals:\n",
    "            if i in x:\n",
    "                if type(x[i]) is list:\n",
    "                    d[i] = x[i][0]\n",
    "                else:\n",
    "                    d[i] = x[i]\n",
    "        allfeat.append(d)\n",
    "\n",
    "    df = pd.DataFrame(allfeat,columns=cols)\n",
    "\n",
    "    return df"
   ]
  },
  {
   "cell_type": "code",
   "execution_count": null,
   "metadata": {},
   "outputs": [],
   "source": [
    "#read in both gffs from nucdiff\n",
    "\n",
    "# This extracts the snps from the snps.gff file and returns a dataframe\n",
    "def get_nucdiff_snps(gff):\n",
    "    feats = utils.gff_to_features(gff)\n",
    "    df = features_to_dataframe(feats)\n",
    "    results_df = df[df.Name=='substitution']\n",
    "    return results_df\n",
    "\n",
    "# This extracts the indels from the structs.gff file and returns a dataframe \n",
    "def get_nucdiff_indels(gff):\n",
    "    feats = utils.gff_to_features(gff)\n",
    "    df = features_to_dataframe(feats)\n",
    "    results_df = df[(df.Name=='deletion') | (df.Name=='insertion')]\n",
    "    return df    #####\n",
    "\n",
    "# This parses the mbovis results and returns a dataframe of snps and indels\n",
    "for filename in os.listdir('MTB_h37rv_mbovis/results'):\n",
    "        if \"ref_snps\" in filename:\n",
    "            mbovis_snps_df = get_nucdiff_snps(f'MTB_h37rv_mbovis/results/{filename}')\n",
    "        elif \"ref_struct\" in filename:\n",
    "            mbovis_indels_df = get_nucdiff_indels(f'MTB_h37rv_mbovis/results/{filename}')\n",
    "\n",
    "# This parses the morygis results and returns a dataframe of snps and indels\n",
    "for filename in os.listdir('MTB_h37rv_morygis_ncbi/results'):\n",
    "        if \"ref_snps\" in filename:\n",
    "            morygis_snps_df = get_nucdiff_snps(f'MTB_h37rv_morygis_ncbi//results/{filename}')\n",
    "        elif \"ref_struct\" in filename:\n",
    "            morygis_indels_df = get_nucdiff_indels(f'MTB_h37rv_morygis_ncbi//results/{filename}')\n",
    "\n"
   ]
  },
  {
   "cell_type": "code",
   "execution_count": 33,
   "metadata": {},
   "outputs": [
    {
     "name": "stdout",
     "output_type": "stream",
     "text": [
      "                  Name del_len ref_repeated_region    start      end breakpoint_query blk_query blk_ref blk_query_len blk_ref_len\n",
      "15  tandem_duplication     NaN                 NaN   802499   802500              NaN       NaN     NaN           NaN         NaN\n",
      "16            deletion      21                 NaN   836872   836893              NaN       NaN     NaN           NaN         NaN\n",
      "17  tandem_duplication     NaN                 NaN   839111   839112              NaN       NaN     NaN           NaN         NaN\n",
      "18           insertion     NaN                 NaN  1213691  1213692              NaN       NaN     NaN           NaN         NaN\n",
      "19           insertion     NaN                 NaN  1213691  1213692              NaN       NaN     NaN           NaN         NaN\n",
      "20         duplication     NaN     1213680-1213692  1213691  1213692              NaN       NaN     NaN           NaN         NaN\n",
      "21         duplication     NaN     1213680-1213692  1213691  1213692              NaN       NaN     NaN           NaN         NaN\n",
      "22  tandem_duplication     NaN                 NaN  1443484  1443485              NaN       NaN     NaN           NaN         NaN\n",
      "23  tandem_duplication     NaN                 NaN  1955671  1955672              NaN       NaN     NaN           NaN         NaN\n",
      "24  tandem_duplication     NaN                 NaN  1955671  1955672              NaN       NaN     NaN           NaN         NaN\n"
     ]
    },
    {
     "name": "stderr",
     "output_type": "stream",
     "text": [
      "/usr/local/lib/python3.6/dist-packages/ipykernel_launcher.py:2: FutureWarning: Sorting because non-concatenation axis is not aligned. A future version\n",
      "of pandas will change to not sort by default.\n",
      "\n",
      "To accept the future behavior, pass 'sort=False'.\n",
      "\n",
      "To retain the current behavior and silence the warning, pass 'sort=True'.\n",
      "\n",
      "  \n",
      "/usr/local/lib/python3.6/dist-packages/ipykernel_launcher.py:3: FutureWarning: Sorting because non-concatenation axis is not aligned. A future version\n",
      "of pandas will change to not sort by default.\n",
      "\n",
      "To accept the future behavior, pass 'sort=False'.\n",
      "\n",
      "To retain the current behavior and silence the warning, pass 'sort=True'.\n",
      "\n",
      "  This is separate from the ipykernel package so we can avoid doing imports until\n"
     ]
    }
   ],
   "source": [
    "# This forms a combined snps and indels df for each strain            \n",
    "mbovis_snpdels = pd.concat([mbovis_indels_df, mbovis_snps_df])\n",
    "morygis_snpdels = pd.concat([morygis_indels_df, morygis_snps_df])\n",
    "\n",
    "#common_differences = pd.merge(mbovis_snpdels, morygis_snpdels, on=['start', 'end'], how='inner')\n",
    "#common_differences = common_differences.drop(columns=['ID_x', 'ID_y', 'query_coord_y', 'query_coord_x'])\n",
    "\n",
    "common_indels = pd.merge(mbovis_indels_df, morygis_indels_df, on=['start', 'end'], how='inner').drop(columns=['ID_x',\n",
    "                                                                    'ID_y', 'query_coord_y', 'query_coord_x', 'source_x', 'source_y', \n",
    "                                                                    'query_sequence_y', 'query_sequence_x', \n",
    "                                                                        'query_dir', 'color_y', 'color_x', 'Name_y'])\n",
    "common_indels.rename(columns={'Name_x':'Name'}, inplace=True)\n",
    "print(common_indels[15:25])\n",
    "#merge them on start position"
   ]
  },
  {
   "cell_type": "code",
   "execution_count": 35,
   "metadata": {},
   "outputs": [
    {
     "name": "stdout",
     "output_type": "stream",
     "text": [
      "66\n"
     ]
    },
    {
     "name": "stderr",
     "output_type": "stream",
     "text": [
      "/usr/local/lib/python3.6/dist-packages/ipykernel_launcher.py:17: SettingWithCopyWarning: \n",
      "A value is trying to be set on a copy of a slice from a DataFrame.\n",
      "Try using .loc[row_indexer,col_indexer] = value instead\n",
      "\n",
      "See the caveats in the documentation: http://pandas.pydata.org/pandas-docs/stable/indexing.html#indexing-view-versus-copy\n",
      "/usr/local/lib/python3.6/dist-packages/ipykernel_launcher.py:18: SettingWithCopyWarning: \n",
      "A value is trying to be set on a copy of a slice from a DataFrame.\n",
      "Try using .loc[row_indexer,col_indexer] = value instead\n",
      "\n",
      "See the caveats in the documentation: http://pandas.pydata.org/pandas-docs/stable/indexing.html#indexing-view-versus-copy\n",
      "/usr/local/lib/python3.6/dist-packages/ipykernel_launcher.py:19: SettingWithCopyWarning: \n",
      "A value is trying to be set on a copy of a slice from a DataFrame.\n",
      "Try using .loc[row_indexer,col_indexer] = value instead\n",
      "\n",
      "See the caveats in the documentation: http://pandas.pydata.org/pandas-docs/stable/indexing.html#indexing-view-versus-copy\n",
      "/usr/local/lib/python3.6/dist-packages/ipykernel_launcher.py:20: SettingWithCopyWarning: \n",
      "A value is trying to be set on a copy of a slice from a DataFrame.\n",
      "Try using .loc[row_indexer,col_indexer] = value instead\n",
      "\n",
      "See the caveats in the documentation: http://pandas.pydata.org/pandas-docs/stable/indexing.html#indexing-view-versus-copy\n"
     ]
    },
    {
     "name": "stdout",
     "output_type": "stream",
     "text": [
      "32 31\n"
     ]
    }
   ],
   "source": [
    "# Here the RD df is read in\n",
    "\n",
    "def find_regions(data):\n",
    "    \"\"\"match regions of difference\"\"\"\n",
    "    \n",
    "    RD = pd.read_csv('RD.csv', comment='#')\n",
    "    found=[]\n",
    "    print (len(data))\n",
    "    for i,r in data.iterrows():\n",
    "        df = RD[((r.start>RD.Start) & (r.start<RD.Stop)) |\n",
    "                  ((r.end>RD.Start) & (r.end<RD.Stop)) |\n",
    "                  ((r.start<RD.Start) & (r.end>RD.Stop))]\n",
    "        #df = RD[abs(RD.Start-r.start)<500]\n",
    "        if len(df) > 0:\n",
    "            #print (df)\n",
    "            #print (r)\n",
    "            df['indel_start'] = r.start\n",
    "            df['indel_end'] = r.end\n",
    "            df['name'] = r.Name\n",
    "            df['del_len'] = r.end-r.start\n",
    "            found.append(df)\n",
    "\n",
    "    found = pd.concat(found)\n",
    "    return found\n",
    "\n",
    "mb = find_regions(mbovis_indels_df)\n",
    "mo = find_regions(morygis_indels_df)\n",
    "mbmo = find_regions(common_indels)\n",
    "\n",
    "print (len(mb),len(mo))"
   ]
  },
  {
   "cell_type": "code",
   "execution_count": 37,
   "metadata": {},
   "outputs": [
    {
     "name": "stdout",
     "output_type": "stream",
     "text": [
      "   RD_name    Start     Stop   Size             Rv  indel_start  indel_end        name  del_len\n",
      "30    RD10   264067   267764   3697  Rv0221-Rv0223       264754     266656    deletion     1902\n",
      "27     RD7  2207700  2220800  13100  Rv1964-Rv1977      2208004    2208005  relocation        1\n",
      "27     RD7  2207700  2220800  13100  Rv1964-Rv1977      2220724    2220725  relocation        1\n",
      "29     RD9  2328974  2332879   3905    CobL-Rv2075      2330073    2332101    deletion     2028\n",
      "28     RD8  4057733  4063249   5516      EphA-lpqG      4056840    4062733    deletion     5893\n"
     ]
    },
    {
     "data": {
      "text/plain": [
       "{'RD10', 'RD11', 'RD14', 'RD182', 'RD207', 'RD5', 'RD7', 'RD8', 'RD9'}"
      ]
     },
     "execution_count": 37,
     "metadata": {},
     "output_type": "execute_result"
    }
   ],
   "source": [
    "set(mb.RD_name) & set(mo.RD_name)"
   ]
  },
  {
   "cell_type": "code",
   "execution_count": 155,
   "metadata": {},
   "outputs": [
    {
     "data": {
      "text/html": [
       "<div>\n",
       "<style scoped>\n",
       "    .dataframe tbody tr th:only-of-type {\n",
       "        vertical-align: middle;\n",
       "    }\n",
       "\n",
       "    .dataframe tbody tr th {\n",
       "        vertical-align: top;\n",
       "    }\n",
       "\n",
       "    .dataframe thead th {\n",
       "        text-align: right;\n",
       "    }\n",
       "</style>\n",
       "<table border=\"1\" class=\"dataframe\">\n",
       "  <thead>\n",
       "    <tr style=\"text-align: right;\">\n",
       "      <th></th>\n",
       "      <th>RD_name</th>\n",
       "      <th>Start</th>\n",
       "      <th>Stop</th>\n",
       "      <th>Size (bp)</th>\n",
       "      <th>Rv in RD</th>\n",
       "      <th>indel_start</th>\n",
       "      <th>indel_end</th>\n",
       "      <th>name</th>\n",
       "      <th>del_len</th>\n",
       "    </tr>\n",
       "  </thead>\n",
       "  <tbody>\n",
       "    <tr>\n",
       "      <th>27</th>\n",
       "      <td>RD7</td>\n",
       "      <td>2207700</td>\n",
       "      <td>2220800</td>\n",
       "      <td>13100</td>\n",
       "      <td>Rv1964-Rv1977</td>\n",
       "      <td>2208004</td>\n",
       "      <td>2208005</td>\n",
       "      <td>relocation</td>\n",
       "      <td>1</td>\n",
       "    </tr>\n",
       "    <tr>\n",
       "      <th>22</th>\n",
       "      <td>RD2</td>\n",
       "      <td>2220908</td>\n",
       "      <td>2232219</td>\n",
       "      <td>11311</td>\n",
       "      <td>Rv1978-Rv1988</td>\n",
       "      <td>2220724</td>\n",
       "      <td>2220725</td>\n",
       "      <td>relocation</td>\n",
       "      <td>1</td>\n",
       "    </tr>\n",
       "    <tr>\n",
       "      <th>31</th>\n",
       "      <td>RD11</td>\n",
       "      <td>2970123</td>\n",
       "      <td>2980818</td>\n",
       "      <td>10695</td>\n",
       "      <td>Rv2645-Rv2659c</td>\n",
       "      <td>2970015</td>\n",
       "      <td>2970016</td>\n",
       "      <td>relocation-overlap</td>\n",
       "      <td>1</td>\n",
       "    </tr>\n",
       "    <tr>\n",
       "      <th>8</th>\n",
       "      <td>RD207</td>\n",
       "      <td>3120521</td>\n",
       "      <td>3127920</td>\n",
       "      <td>7400</td>\n",
       "      <td>Rv2814c-2820c</td>\n",
       "      <td>3120305</td>\n",
       "      <td>3120524</td>\n",
       "      <td>collapsed_tandem_repeat</td>\n",
       "      <td>219</td>\n",
       "    </tr>\n",
       "    <tr>\n",
       "      <th>34</th>\n",
       "      <td>RD14</td>\n",
       "      <td>1997418</td>\n",
       "      <td>2007766</td>\n",
       "      <td>10348</td>\n",
       "      <td>Rv1765c-Rv1773c</td>\n",
       "      <td>1997053</td>\n",
       "      <td>1997452</td>\n",
       "      <td>deletion</td>\n",
       "      <td>399</td>\n",
       "    </tr>\n",
       "    <tr>\n",
       "      <th>32</th>\n",
       "      <td>RD12</td>\n",
       "      <td>3484809</td>\n",
       "      <td>3487711</td>\n",
       "      <td>2902</td>\n",
       "      <td>SseC-Rv3121</td>\n",
       "      <td>3484740</td>\n",
       "      <td>3487514</td>\n",
       "      <td>deletion</td>\n",
       "      <td>2774</td>\n",
       "    </tr>\n",
       "    <tr>\n",
       "      <th>33</th>\n",
       "      <td>RD13</td>\n",
       "      <td>1402778</td>\n",
       "      <td>1406084</td>\n",
       "      <td>3306</td>\n",
       "      <td>Rv1255c-Rv1257c</td>\n",
       "      <td>1402937</td>\n",
       "      <td>1405937</td>\n",
       "      <td>deletion</td>\n",
       "      <td>3000</td>\n",
       "    </tr>\n",
       "    <tr>\n",
       "      <th>25</th>\n",
       "      <td>RD5</td>\n",
       "      <td>2625888</td>\n",
       "      <td>2635592</td>\n",
       "      <td>9704</td>\n",
       "      <td>Rv2346c-Rv2353c</td>\n",
       "      <td>2626069</td>\n",
       "      <td>2635030</td>\n",
       "      <td>deletion</td>\n",
       "      <td>8961</td>\n",
       "    </tr>\n",
       "  </tbody>\n",
       "</table>\n",
       "</div>"
      ],
      "text/plain": [
       "   RD_name    Start     Stop  Size (bp)         Rv in RD  indel_start  indel_end                     name  del_len\n",
       "27     RD7  2207700  2220800      13100    Rv1964-Rv1977      2208004    2208005               relocation        1\n",
       "22     RD2  2220908  2232219      11311    Rv1978-Rv1988      2220724    2220725               relocation        1\n",
       "31    RD11  2970123  2980818      10695   Rv2645-Rv2659c      2970015    2970016       relocation-overlap        1\n",
       "8    RD207  3120521  3127920       7400    Rv2814c-2820c      3120305    3120524  collapsed_tandem_repeat      219\n",
       "34    RD14  1997418  2007766      10348  Rv1765c-Rv1773c      1997053    1997452                 deletion      399\n",
       "32    RD12  3484809  3487711       2902      SseC-Rv3121      3484740    3487514                 deletion     2774\n",
       "33    RD13  1402778  1406084       3306  Rv1255c-Rv1257c      1402937    1405937                 deletion     3000\n",
       "25     RD5  2625888  2635592       9704  Rv2346c-Rv2353c      2626069    2635030                 deletion     8961"
      ]
     },
     "execution_count": 155,
     "metadata": {},
     "output_type": "execute_result"
    }
   ],
   "source": [
    "mb.sort_values('del_len')"
   ]
  },
  {
   "cell_type": "code",
   "execution_count": null,
   "metadata": {},
   "outputs": [],
   "source": [
    "#RD5:   NC_000962.3:2,625,888-2,635,592  Similar         (Not flagged as same)\n",
    "#RD10:  NC_000962.3:264,067-267,764      Common\n",
    "#RD9:   NC_000962.3:2,328,974-2,332,879  Common\n",
    "#RD8    NC_000962.3:4,053,166-4,066,581  Common"
   ]
  },
  {
   "cell_type": "code",
   "execution_count": 38,
   "metadata": {},
   "outputs": [
    {
     "data": {
      "text/html": [
       "<div>\n",
       "<style scoped>\n",
       "    .dataframe tbody tr th:only-of-type {\n",
       "        vertical-align: middle;\n",
       "    }\n",
       "\n",
       "    .dataframe tbody tr th {\n",
       "        vertical-align: top;\n",
       "    }\n",
       "\n",
       "    .dataframe thead th {\n",
       "        text-align: right;\n",
       "    }\n",
       "</style>\n",
       "<table border=\"1\" class=\"dataframe\">\n",
       "  <thead>\n",
       "    <tr style=\"text-align: right;\">\n",
       "      <th></th>\n",
       "      <th>RD_name</th>\n",
       "      <th>Start</th>\n",
       "      <th>Stop</th>\n",
       "      <th>Size</th>\n",
       "      <th>Rv</th>\n",
       "      <th>indel_start</th>\n",
       "      <th>indel_end</th>\n",
       "      <th>name</th>\n",
       "      <th>del_len</th>\n",
       "    </tr>\n",
       "  </thead>\n",
       "  <tbody>\n",
       "    <tr>\n",
       "      <th>30</th>\n",
       "      <td>RD10</td>\n",
       "      <td>264067</td>\n",
       "      <td>267764</td>\n",
       "      <td>3697</td>\n",
       "      <td>Rv0221-Rv0223</td>\n",
       "      <td>264754</td>\n",
       "      <td>266656</td>\n",
       "      <td>deletion</td>\n",
       "      <td>1902</td>\n",
       "    </tr>\n",
       "    <tr>\n",
       "      <th>27</th>\n",
       "      <td>RD7</td>\n",
       "      <td>2207700</td>\n",
       "      <td>2220800</td>\n",
       "      <td>13100</td>\n",
       "      <td>Rv1964-Rv1977</td>\n",
       "      <td>2208004</td>\n",
       "      <td>2208005</td>\n",
       "      <td>relocation</td>\n",
       "      <td>1</td>\n",
       "    </tr>\n",
       "    <tr>\n",
       "      <th>27</th>\n",
       "      <td>RD7</td>\n",
       "      <td>2207700</td>\n",
       "      <td>2220800</td>\n",
       "      <td>13100</td>\n",
       "      <td>Rv1964-Rv1977</td>\n",
       "      <td>2220724</td>\n",
       "      <td>2220725</td>\n",
       "      <td>relocation</td>\n",
       "      <td>1</td>\n",
       "    </tr>\n",
       "    <tr>\n",
       "      <th>29</th>\n",
       "      <td>RD9</td>\n",
       "      <td>2328974</td>\n",
       "      <td>2332879</td>\n",
       "      <td>3905</td>\n",
       "      <td>CobL-Rv2075</td>\n",
       "      <td>2330073</td>\n",
       "      <td>2332101</td>\n",
       "      <td>deletion</td>\n",
       "      <td>2028</td>\n",
       "    </tr>\n",
       "    <tr>\n",
       "      <th>28</th>\n",
       "      <td>RD8</td>\n",
       "      <td>4057733</td>\n",
       "      <td>4063249</td>\n",
       "      <td>5516</td>\n",
       "      <td>EphA-lpqG</td>\n",
       "      <td>4056840</td>\n",
       "      <td>4062733</td>\n",
       "      <td>deletion</td>\n",
       "      <td>5893</td>\n",
       "    </tr>\n",
       "  </tbody>\n",
       "</table>\n",
       "</div>"
      ],
      "text/plain": [
       "   RD_name    Start     Stop   Size             Rv  indel_start  indel_end        name  del_len\n",
       "30    RD10   264067   267764   3697  Rv0221-Rv0223       264754     266656    deletion     1902\n",
       "27     RD7  2207700  2220800  13100  Rv1964-Rv1977      2208004    2208005  relocation        1\n",
       "27     RD7  2207700  2220800  13100  Rv1964-Rv1977      2220724    2220725  relocation        1\n",
       "29     RD9  2328974  2332879   3905    CobL-Rv2075      2330073    2332101    deletion     2028\n",
       "28     RD8  4057733  4063249   5516      EphA-lpqG      4056840    4062733    deletion     5893"
      ]
     },
     "execution_count": 38,
     "metadata": {},
     "output_type": "execute_result"
    }
   ],
   "source": [
    "mbmo"
   ]
  },
  {
   "cell_type": "code",
   "execution_count": null,
   "metadata": {},
   "outputs": [],
   "source": []
  }
 ],
 "metadata": {
  "kernelspec": {
   "display_name": "Python 3",
   "language": "python",
   "name": "python3"
  },
  "language_info": {
   "codemirror_mode": {
    "name": "ipython",
    "version": 3
   },
   "file_extension": ".py",
   "mimetype": "text/x-python",
   "name": "python",
   "nbconvert_exporter": "python",
   "pygments_lexer": "ipython3",
   "version": "3.6.8"
  }
 },
 "nbformat": 4,
 "nbformat_minor": 4
}
